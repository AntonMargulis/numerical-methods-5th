{
 "cells": [
  {
   "cell_type": "code",
   "execution_count": 1,
   "metadata": {},
   "outputs": [],
   "source": [
    "import sympy\n",
    "import matplotlib.pyplot as plt\n",
    "q = sympy.symbols('x')"
   ]
  },
  {
   "cell_type": "code",
   "execution_count": 2,
   "metadata": {},
   "outputs": [],
   "source": [
    "x = [-3.0, -2.0, -1.0, 0.0, 1.0, 2.0]\n",
    "y = [0.04978, 0.13534, 0.36788, 1.0, 2.7183, 7.3891]\n",
    "k0 = len(x)\n",
    "k1 = k2 = k3 = k4 = k5 = k6 = k7 = k8 = k9 = k10 = 0"
   ]
  },
  {
   "cell_type": "code",
   "execution_count": 3,
   "metadata": {},
   "outputs": [],
   "source": [
    "for i in range(k0):\n",
    "    k1 += x[i]\n",
    "    k2 += pow(x[i], 2)\n",
    "    k3 += pow(x[i], 3)\n",
    "    k4 += pow(x[i], 4)\n",
    "    k5 += pow(x[i], 5)\n",
    "    k6 += pow(x[i], 6)\n",
    "    k7 += y[i]\n",
    "    k8 += x[i] * y[i]\n",
    "    k9 += pow(x[i], 2) * y[i]\n",
    "    k10 += pow(x[i], 3) * y[i]"
   ]
  },
  {
   "cell_type": "code",
   "execution_count": 4,
   "metadata": {},
   "outputs": [
    {
     "name": "stdout",
     "output_type": "stream",
     "text": [
      "1.28793142857143*x + 2.58736571428571\n"
     ]
    }
   ],
   "source": [
    "a = (k0 * k8 - k1 * k7) / (k2 * k0 - k1 * k1);\n",
    "b = (k7 - k1 * a) / k0;\n",
    "pol1 = a * q + b\n",
    "print(pol1)"
   ]
  },
  {
   "cell_type": "code",
   "execution_count": 5,
   "metadata": {},
   "outputs": [
    {
     "name": "stdout",
     "output_type": "stream",
     "text": [
      "0.515522142857143*x**2 + 1.80345357142857*x + 1.21264\n"
     ]
    }
   ],
   "source": [
    "a = ((k2 * k9 - k8 * k3) * (k1 * k2 - k0 * k3) - (k9 * k1 - k7 * k3) * (k2 * k2 - k1 * k3)) / ((k4 * k2 - k3 * k3) * (k1 * k2 - k0 * k3) - (k1 * k4 - k2 * k3) * (k2 * k2 - k1 * k3))\n",
    "c = (a * (k3 * k3 - k4 * k2) + k2 * k9 - k8 * k3) / (k2 * k2 - k1 * k3)\n",
    "b = (k7 - k0 * c - k2 * a) / k1\n",
    "pol2 = a * q * q + b * q + c\n",
    "print(pol2)"
   ]
  },
  {
   "cell_type": "code",
   "execution_count": 6,
   "metadata": {},
   "outputs": [
    {
     "name": "stdout",
     "output_type": "stream",
     "text": [
      "0.148957407407407*x**3 + 0.738958253968254*x**2 + 1.16293671957672*x + 0.855142222222222\n"
     ]
    }
   ],
   "source": [
    "res1 = (k6 * k2 - k5 * k3) * (k2 * k0 - k1 * k1) - (k4 * k0 - k3 * k1) * (k4 * k2 - k3 * k3)\n",
    "res2 = (k5 * k2 - k4 * k3) * (k2 * k0 - k1 * k1) - (k3 * k0 - k2 * k1) * (k4 * k2 - k3 * k3)\n",
    "res3 = (k10 * k2 - k9 * k3) * (k2 * k0 - k1 * k1) - (k8 * k0 - k7 * k1) * (k4 * k2 - k3 * k3)\n",
    "res4 = (k5 * k0 - k3 * k2) * (k4 * k1 - k2 * k3) - (k6 * k1 - k4 * k3) * (k3 * k0 - k1 * k2)\n",
    "res5 = (k4 * k0 - k2 * k2) * (k4 * k1 - k2 * k3) - (k5 * k1 - k3 * k3) * (k3 * k0 - k1 * k2)\n",
    "res6 = (k9 * k0 - k7 * k2) * (k4 * k1 - k2 * k3) - (k10 * k1 - k8 * k3) * (k3 * k0 - k1 * k2)\n",
    "a = (res3 * res5 - res6 * res2) / (res1 * res5 - res2 * res4)\n",
    "b = (res6 - a * res4) / res5\n",
    "c = ((k9 * k0 - k7 * k2) - a * (k5 * k0 - k3 * k2) - b * (k4 * k0 - k2 * k2)) / (k3 * k0 - k1 * k2)\n",
    "d = (k10 - k4 * c - k5 * b - k6 * a) / k3\n",
    "pol3 = a * q * q * q + b * q * q + c * q + d\n",
    "print(pol3)"
   ]
  },
  {
   "cell_type": "code",
   "execution_count": 7,
   "metadata": {},
   "outputs": [
    {
     "name": "stdout",
     "output_type": "stream",
     "text": [
      "11.4548341161143 1.53301247114286 0.0952100335873016\n"
     ]
    }
   ],
   "source": [
    "sum1 = sum2 = sum3 = 0\n",
    "for i in range(k0):\n",
    "    sum1 += pow(y[i] - pol1.subs(q, x[i]), 2)\n",
    "    sum2 += pow(y[i] - pol2.subs(q, x[i]), 2)\n",
    "    sum3 += pow(y[i] - pol3.subs(q, x[i]), 2)\n",
    "print(sum1, sum2, sum3)"
   ]
  },
  {
   "cell_type": "code",
   "execution_count": null,
   "metadata": {},
   "outputs": [],
   "source": []
  }
 ],
 "metadata": {
  "kernelspec": {
   "display_name": "Python 3",
   "language": "python",
   "name": "python3"
  },
  "language_info": {
   "codemirror_mode": {
    "name": "ipython",
    "version": 3
   },
   "file_extension": ".py",
   "mimetype": "text/x-python",
   "name": "python",
   "nbconvert_exporter": "python",
   "pygments_lexer": "ipython3",
   "version": "3.6.5"
  }
 },
 "nbformat": 4,
 "nbformat_minor": 2
}
