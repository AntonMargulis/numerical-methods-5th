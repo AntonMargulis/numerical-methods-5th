{
 "cells": [
  {
   "cell_type": "code",
   "execution_count": 1,
   "metadata": {},
   "outputs": [],
   "source": [
    "import sympy\n",
    "import numpy\n",
    "import math\n",
    "import matplotlib.pyplot as plt\n",
    "x = sympy.symbols('x')"
   ]
  },
  {
   "cell_type": "code",
   "execution_count": 2,
   "metadata": {},
   "outputs": [
    {
     "name": "stdout",
     "output_type": "stream",
     "text": [
      "(3*x + 4)/(2*x + 7)\n"
     ]
    }
   ],
   "source": [
    "y = (3*x+4)/(2*x+7) \n",
    "a = -2.0\n",
    "b = 2.0\n",
    "print(y)"
   ]
  },
  {
   "cell_type": "code",
   "execution_count": 3,
   "metadata": {},
   "outputs": [
    {
     "name": "stdout",
     "output_type": "stream",
     "text": [
      "-2.0  -1.5  -1.0  -0.5  0.0  0.5  1.0  1.5  2.0\n",
      "Интеграл методом Симпсона = 1.77625060125060\n"
     ]
    }
   ],
   "source": [
    "arr_x_simps = []\n",
    "z = 0\n",
    "h = 1\n",
    "while (a + z * (h / 2) <= b):\n",
    "    arr_x_simps.append(a + h / 2 * z)\n",
    "    z += 1\n",
    "print('  '.join(map(str, arr_x_simps)))\n",
    "simps_sum = y.subs(x,arr_x_simps[0]) + y.subs(x,arr_x_simps[len(arr_x_simps) - 1])\n",
    "for i in range(1, len(arr_x_simps) - 1):\n",
    "    if i % 2:\n",
    "        simps_sum += 4 * y.subs(x,arr_x_simps[i])\n",
    "    else:\n",
    "        simps_sum += 2 * y.subs(x,arr_x_simps[i])\n",
    "simps_sum *= h / 6\n",
    "print(\"Интеграл методом Симпсона = \", simps_sum, sep = '')"
   ]
  },
  {
   "cell_type": "code",
   "execution_count": 4,
   "metadata": {},
   "outputs": [
    {
     "name": "stdout",
     "output_type": "stream",
     "text": [
      "-2.0  -1.0  0.0  1.0  2.0\n",
      "Интеграл методом левых прямоугольников = 0.882539682539682\n",
      "Интеграл методом правых прямоугольников = 2.45829725829726\n",
      "Интеграл методом средних прямоугольников = 1.82916666666667\n"
     ]
    }
   ],
   "source": [
    "arr_x = []\n",
    "z = 0.0\n",
    "h = 1\n",
    "while (a + h * z <= b):\n",
    "    arr_x.append(a + h * z)\n",
    "    z += 1.0\n",
    "print('  '.join(map(str, arr_x)))\n",
    "left_rec_sum = 0\n",
    "right_rec_sum = 0\n",
    "middle_rec_sum = 0\n",
    "for i in range(1, len(arr_x) - 1):\n",
    "    left_rec_sum += y.subs(x, arr_x[i])\n",
    "    right_rec_sum += y.subs(x, arr_x[i])\n",
    "    middle_rec_sum += y.subs(x, arr_x[i] + h / 2)\n",
    "left_rec_sum = (left_rec_sum + y.subs(x, arr_x[0])) * h\n",
    "right_rec_sum = (right_rec_sum + y.subs(x, arr_x[len(arr_x) - 1])) * h\n",
    "middle_rec_sum = (middle_rec_sum + y.subs(x, arr_x[0] + h / 2)) * h\n",
    "print(\"Интеграл методом левых прямоугольников = \", left_rec_sum, sep = '')\n",
    "print(\"Интеграл методом правых прямоугольников = \", right_rec_sum, sep = '')\n",
    "print(\"Интеграл методом средних прямоугольников = \", middle_rec_sum, sep = '')"
   ]
  },
  {
   "cell_type": "code",
   "execution_count": 5,
   "metadata": {},
   "outputs": [
    {
     "name": "stdout",
     "output_type": "stream",
     "text": [
      "-2.0  -1.75  -1.5  -1.25  -1.0  -0.75  -0.5  -0.25  0.0  0.25  0.5  0.75  1.0  1.25  1.5  1.75  2.0\n",
      "Интеграл методом Симпсона = 1.77725213025136\n"
     ]
    }
   ],
   "source": [
    "arr_x_simps2 = []\n",
    "z = 0\n",
    "h = 1\n",
    "while (a + z * (h / 4) <= b):\n",
    "    arr_x_simps2.append(a + h / 4 * z)\n",
    "    z += 1\n",
    "print('  '.join(map(str, arr_x_simps2)))\n",
    "simps_sum2 = y.subs(x,arr_x_simps2[0]) + y.subs(x,arr_x_simps2[len(arr_x_simps2) - 1])\n",
    "for i in range(1, len(arr_x_simps2) - 1):\n",
    "    if i % 2:\n",
    "        simps_sum2 += 4 * y.subs(x,arr_x_simps2[i])\n",
    "    else:\n",
    "        simps_sum2 += 2 * y.subs(x,arr_x_simps2[i])\n",
    "simps_sum2 *= h / 12\n",
    "print(\"Интеграл методом Симпсона = \", simps_sum2, sep = '')"
   ]
  },
  {
   "cell_type": "code",
   "execution_count": 6,
   "metadata": {},
   "outputs": [
    {
     "name": "stdout",
     "output_type": "stream",
     "text": [
      "-2.0  -1.5  -1.0  -0.5  0.0  0.5  1.0  1.5  2.0\n",
      "Интеграл методом левых прямоугольников = 1.35585317460317\n",
      "Интеграл методом правых прямоугольников = 2.14373196248196\n",
      "Интеграл методом средних прямоугольников = 1.79098191110575\n"
     ]
    }
   ],
   "source": [
    "arr_x2 = []\n",
    "z = 0.0\n",
    "h = 0.5\n",
    "while (a + h * z <= b):\n",
    "    arr_x2.append(a + h * z)\n",
    "    z += 1.0\n",
    "print('  '.join(map(str, arr_x2)))\n",
    "left_rec_sum2 = 0\n",
    "right_rec_sum2 = 0\n",
    "middle_rec_sum2 = 0\n",
    "for i in range(1, len(arr_x2) - 1):\n",
    "    left_rec_sum2 += y.subs(x, arr_x2[i])\n",
    "    right_rec_sum2 += y.subs(x, arr_x2[i])\n",
    "    middle_rec_sum2 += y.subs(x, arr_x2[i] + h / 2)\n",
    "left_rec_sum2 = (left_rec_sum2 + y.subs(x, arr_x2[0])) * h\n",
    "right_rec_sum2 = (right_rec_sum2 + y.subs(x, arr_x2[len(arr_x2) - 1])) * h\n",
    "middle_rec_sum2 = (middle_rec_sum2 + y.subs(x, arr_x2[0] + h / 2)) * h\n",
    "print(\"Интеграл методом левых прямоугольников = \", left_rec_sum2, sep = '')\n",
    "print(\"Интеграл методом правых прямоугольников = \", right_rec_sum2, sep = '')\n",
    "print(\"Интеграл методом средних прямоугольников = \", middle_rec_sum2, sep = '')"
   ]
  },
  {
   "cell_type": "code",
   "execution_count": 7,
   "metadata": {},
   "outputs": [
    {
     "name": "stdout",
     "output_type": "stream",
     "text": [
      "1.79098191110575\n",
      "1.82916666666667\n",
      "0.012728251853638831\n"
     ]
    }
   ],
   "source": [
    "#погрешность по правилу рунге методом средних прямоугольников\n",
    "runge = math.fabs(middle_rec_sum2 - middle_rec_sum)/3\n",
    "print(middle_rec_sum2)\n",
    "print(middle_rec_sum)\n",
    "print(runge)"
   ]
  },
  {
   "cell_type": "code",
   "execution_count": 8,
   "metadata": {},
   "outputs": [
    {
     "name": "stdout",
     "output_type": "stream",
     "text": [
      "1.77725213025136\n",
      "1.77625060125060\n",
      "0.00033384300025159536\n"
     ]
    }
   ],
   "source": [
    "#погрешность по правилу рунге методом Симпсона\n",
    "runge = math.fabs(simps_sum2 - simps_sum)/3\n",
    "print(simps_sum2)\n",
    "print(simps_sum)\n",
    "print(runge)"
   ]
  },
  {
   "cell_type": "code",
   "execution_count": null,
   "metadata": {},
   "outputs": [],
   "source": []
  },
  {
   "cell_type": "code",
   "execution_count": null,
   "metadata": {},
   "outputs": [],
   "source": []
  },
  {
   "cell_type": "code",
   "execution_count": null,
   "metadata": {},
   "outputs": [],
   "source": []
  },
  {
   "cell_type": "code",
   "execution_count": null,
   "metadata": {},
   "outputs": [],
   "source": []
  }
 ],
 "metadata": {
  "kernelspec": {
   "display_name": "Python 3",
   "language": "python",
   "name": "python3"
  },
  "language_info": {
   "codemirror_mode": {
    "name": "ipython",
    "version": 3
   },
   "file_extension": ".py",
   "mimetype": "text/x-python",
   "name": "python",
   "nbconvert_exporter": "python",
   "pygments_lexer": "ipython3",
   "version": "3.6.8"
  }
 },
 "nbformat": 4,
 "nbformat_minor": 2
}
