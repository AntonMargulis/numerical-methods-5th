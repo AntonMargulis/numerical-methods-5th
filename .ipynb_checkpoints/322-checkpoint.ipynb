{
 "cells": [
  {
   "cell_type": "code",
   "execution_count": 1,
   "metadata": {},
   "outputs": [],
   "source": [
    "# f(x) = (x^2)*(e^x)\n",
    "import math\n",
    "def myFunc(arg) :\n",
    "    res = math.cos(arg)\n",
    "    return res"
   ]
  },
  {
   "cell_type": "code",
   "execution_count": 2,
   "metadata": {},
   "outputs": [],
   "source": [
    "# многочлен Лагранжа\n",
    "def lagrange(x0, x1, x2, x3, x) :\n",
    "    func0 = myFunc(x0)\n",
    "    func1 = myFunc(x1)\n",
    "    func2 = myFunc(x2)\n",
    "    func3 = myFunc(x3)\n",
    "    L0 = (x-x1)*(x-x2)*(x-x3)/((x0-x1)*(x0-x2)*(x0-x3))\n",
    "    L1 = (x-x1)*(x-x2)*(x-x3)/((x1-x0)*(x1-x2)*(x1-x3))\n",
    "    L2 = (x-x1)*(x-x2)*(x-x3)/((x2-x0)*(x2-x1)*(x2-x3))\n",
    "    L3 = (x-x1)*(x-x2)*(x-x3)/((x3-x0)*(x3-x1)*(x3-x2))\n",
    "    \n",
    "    res = func0*L0 + func1*L1 + func2*L2 + func3*L3;\n",
    "    return res"
   ]
  },
  {
   "cell_type": "code",
   "execution_count": 3,
   "metadata": {},
   "outputs": [],
   "source": [
    "# многочлен Ньютона\n",
    "def newton(x0, x1, x2, x3, x) :\n",
    "    func0 = myFunc(x0);\n",
    "    func1 = myFunc(x1);\n",
    "    func2 = myFunc(x2);\n",
    "    func3 = myFunc(x3);\n",
    "    P0 = func0;\n",
    "    P1 = (func0-func1)/(x0-x1);\n",
    "    P2 = (func1-func2)/(x1-x2);\n",
    "    P3 = (func2-func3)/(x2-x3);\n",
    "\n",
    "    res = P0 + (x-x0)*P1 + (x-x0)*(x-x1)*(P1-P2)/(x0-x2) + (x-x0)*(x-x1)*(x-x2)*(P1-P2)/(x0-x2) - (P2-P3)/(x1-x3)/(x0-x3);\n",
    "    return res"
   ]
  },
  {
   "cell_type": "code",
   "execution_count": 4,
   "metadata": {},
   "outputs": [],
   "source": [
    "# дано\n",
    "x0 = 0\n",
    "x1 = math.pi / 6\n",
    "x2 = math.pi * 2 / 6\n",
    "x3 = math.pi * 3 / 6\n",
    "x = math.pi / 4"
   ]
  },
  {
   "cell_type": "code",
   "execution_count": 5,
   "metadata": {},
   "outputs": [
    {
     "name": "stdout",
     "output_type": "stream",
     "text": [
      "Значение в изначально заданной точке (по Лагранжу) (x = 0.7853981633974483) = 0.0061297632095822265\n"
     ]
    }
   ],
   "source": [
    "print(\"Значение в изначально заданной точке (по Лагранжу) (x = \", x, \") = \", lagrange(x0, x1, x2, x3, x), sep ='')"
   ]
  },
  {
   "cell_type": "code",
   "execution_count": 6,
   "metadata": {},
   "outputs": [
    {
     "name": "stdout",
     "output_type": "stream",
     "text": [
      "Значение в изначально заданной точке (по Ньютону) (x = 0.7853981633974483) = 0.5792486806895392\n"
     ]
    }
   ],
   "source": [
    "print(\"Значение в изначально заданной точке (по Ньютону) (x = \", x, \") = \", newton(x0, x1, x2, x3, x), sep ='')"
   ]
  },
  {
   "cell_type": "code",
   "execution_count": 7,
   "metadata": {},
   "outputs": [],
   "source": [
    "# вычисляем координаты для графиков\n",
    "xArr = [x0,x1,x2,x3]\n",
    "yArr = []\n",
    "for i in range(len(xArr)) :\n",
    "    yArr.append(myFunc(xArr[i]))\n",
    "xFunc = []\n",
    "yFunc = []\n",
    "xLagrange = []\n",
    "yLagrange = []\n",
    "xNewton = []\n",
    "yNewton = []\n",
    "for num in range(450) :\n",
    "    xFunc.append(-3 + num*0.01)\n",
    "    yFunc.append(myFunc(-3 + num*0.01))\n",
    "    xLagrange.append(-3 + num*0.01)\n",
    "    yLagrange.append(lagrange(x0, x1, x2, x3, -3 + num*0.01))\n",
    "    xNewton.append(-3 + num*0.01)\n",
    "    yNewton.append(newton(x0, x1, x2, x3, -3 + num*0.01))"
   ]
  },
  {
   "cell_type": "code",
   "execution_count": 10,
   "metadata": {},
   "outputs": [
    {
     "data": {
      "image/png": "[encoded data removed]",
      "text/plain": [
       "<Figure size 432x288 with 1 Axes>"
      ]
     },
     "metadata": {},
     "output_type": "display_data"
    }
   ],
   "source": [
    "# график многочлена в форме Лагранжа\n",
    "import matplotlib.pyplot as plt\n",
    "plt.title('Lagrange fuction')\n",
    "plt.grid(True)\n",
    "plt.xlabel('X-line')\n",
    "plt.ylabel('Y-line')\n",
    "plt.scatter(xArr, yArr, color='red')\n",
    "plt.plot(xFunc, yFunc, color='blue')\n",
    "plt.plot(xLagrange, yLagrange, color='green')\n",
    "plt.show()"
   ]
  },
  {
   "cell_type": "code",
   "execution_count": 9,
   "metadata": {},
   "outputs": [
    {
     "data": {
      "image/png": "[encoded data removed]",
      "text/plain": [
       "<Figure size 432x288 with 1 Axes>"
      ]
     },
     "metadata": {},
     "output_type": "display_data"
    }
   ],
   "source": [
    "# график многочлена в форме Ньютона\n",
    "import matplotlib.pyplot as plt\n",
    "plt.title('Newton fuction')\n",
    "plt.grid(True)\n",
    "plt.xlabel('X-line')\n",
    "plt.ylabel('Y-line')\n",
    "plt.scatter(xArr, yArr, color='red')\n",
    "plt.plot(xFunc, yFunc, color='blue')\n",
    "plt.plot(xNewton, yNewton, color='green')\n",
    "plt.show()"
   ]
  },
  {
   "cell_type": "code",
   "execution_count": null,
   "metadata": {},
   "outputs": [],
   "source": []
  }
 ],
 "metadata": {
  "kernelspec": {
   "display_name": "Python 3",
   "language": "python",
   "name": "python3"
  },
  "language_info": {
   "codemirror_mode": {
    "name": "ipython",
    "version": 3
   },
   "file_extension": ".py",
   "mimetype": "text/x-python",
   "name": "python",
   "nbconvert_exporter": "python",
   "pygments_lexer": "ipython3",
   "version": "3.6.5"
  }
 },
 "nbformat": 4,
 "nbformat_minor": 2
}
