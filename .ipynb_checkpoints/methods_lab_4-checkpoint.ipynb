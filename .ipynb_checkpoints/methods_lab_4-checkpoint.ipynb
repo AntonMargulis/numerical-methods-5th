{
 "cells": [
  {
   "cell_type": "code",
   "execution_count": 1,
   "metadata": {},
   "outputs": [],
   "source": [
    "import sympy\n",
    "import numpy\n",
    "import matplotlib.pyplot as plt\n",
    "x = sympy.symbols('x')"
   ]
  },
  {
   "cell_type": "code",
   "execution_count": 2,
   "metadata": {},
   "outputs": [],
   "source": [
    "inp_x = [-2, -1, 0, 1, 2]\n",
    "inp_y = [0.13534, 0.36788, 1, 2.7183, 7.3891]\n",
    "xin = 0.2\n",
    "n = len(inp_x)"
   ]
  },
  {
   "cell_type": "code",
   "execution_count": 3,
   "metadata": {},
   "outputs": [],
   "source": [
    "h = numpy.zeros(n - 1)\n",
    "alpha = numpy.zeros(n - 1)\n",
    "b = numpy.zeros(n - 1)\n",
    "d = numpy.zeros(n - 1)\n",
    "c = numpy.zeros(n)\n",
    "l = numpy.ones(n)\n",
    "m = numpy.zeros(n)\n",
    "z = numpy.zeros(n)"
   ]
  },
  {
   "cell_type": "code",
   "execution_count": 124,
   "metadata": {},
   "outputs": [],
   "source": [
    "for i in range(n - 1):\n",
    "    h[i] = inp_x[i + 1] - inp_x[i]\n",
    "for i in range(n - 1):\n",
    "    #alpha[i] = 3 / h[i] * (inp_y[i + 1] - inp_y[i])  - 3 / h[i - 1] * (inp_y[i] - inp_y[i - 1])\n",
    "    alpha[i]=inp_y[i];\n",
    "for i in range(1, n - 1):\n",
    "    l[i] = 2 * (inp_x[i + 1] - inp_x[i - 1]) - h[i - 1] * m[i - 1]\n",
    "    m[i] = h[i] / l[i]\n",
    "    z[i] = (alpha[i] - h[i - 1] * z[i - 1]) / l[i]\n",
    "for i in range(n - 2, -1, -1):\n",
    "    c[i] = z[i] - m[i] * c[i + 1]\n",
    "    b[i] = ((inp_y[i + 1] - inp_y[i]) / h[i]) - (h[i] * (c[i + 1] + 2 * c[i]) / 3)\n",
    "    d[i] = (c[i + 1] - c[i]) / (3 * h[i])"
   ]
  },
  {
   "cell_type": "code",
   "execution_count": 125,
   "metadata": {},
   "outputs": [
    {
     "name": "stdout",
     "output_type": "stream",
     "text": [
      "[0.207322738095238*x + 0.0252172619047619*(x + 2)**3 + 0.549985476190476, 0.559927857142857*x - 0.00345964285714285*(x + 1)**3 + 0.0756517857142857*(x + 1)**2 + 0.927807857142857, 0.199327976190476*x**3 + 0.0652728571428572*x**2 + 1.45369916666667*x + 1, 4.22862880952381*x - 0.221085595238095*(x - 1)**3 + 0.663256785714286*(x - 1)**2 - 1.51032880952381]\n"
     ]
    }
   ],
   "source": [
    "f = []\n",
    "for i in range(n - 1):\n",
    "    f.append(inp_y[i] + b[i] * (x - inp_x[i]) + c[i] * (pow(x - inp_x[i], 2)) + d[i] * (pow(x - inp_x[i], 3)))\n",
    "print(f)"
   ]
  },
  {
   "cell_type": "code",
   "execution_count": 126,
   "metadata": {},
   "outputs": [],
   "source": [
    "def cubic_spline(x_in, f, inp_x, n):\n",
    "    maxind = n\n",
    "    for i in range(n - 1, -1, -1):\n",
    "        if (x_in < inp_x[i]):\n",
    "            maxind = i\n",
    "    return f[maxind - 1].subs(x, x_in)"
   ]
  },
  {
   "cell_type": "code",
   "execution_count": 127,
   "metadata": {},
   "outputs": [
    {
     "name": "stdout",
     "output_type": "stream",
     "text": [
      "Значение кубического сплайна (в точке x = 0.2) = 1.29494537142857\n"
     ]
    }
   ],
   "source": [
    "print(\"Значение кубического сплайна (в точке x = \", xin, \") = \", cubic_spline(xin, f, inp_x, n), sep=\"\")"
   ]
  },
  {
   "cell_type": "code",
   "execution_count": 128,
   "metadata": {},
   "outputs": [
    {
     "data": {
      "image/png": "[encoded data removed]",
      "text/plain": [
       "<Figure size 432x288 with 1 Axes>"
      ]
     },
     "metadata": {},
     "output_type": "display_data"
    }
   ],
   "source": [
    "x_gr = []\n",
    "y_gr = []\n",
    "for i in range((inp_x[n - 1] - inp_x[0]) * 100):\n",
    "    x_gr.append(inp_x[0] + i / 100)\n",
    "    y_gr.append(cubic_spline(inp_x[0] + i / 100, f, inp_x, n))\n",
    "plt.title('Cubic Spline')\n",
    "plt.grid(True)\n",
    "plt.scatter(xin, cubic_spline(xin, f, inp_x, n), color='red')\n",
    "plt.plot(x_gr, y_gr, color='blue')\n",
    "plt.show()"
   ]
  },
  {
   "cell_type": "code",
   "execution_count": 129,
   "metadata": {},
   "outputs": [
    {
     "data": {
      "image/png": "[encoded data removed]",
      "text/plain": [
       "<Figure size 432x288 with 1 Axes>"
      ]
     },
     "metadata": {},
     "output_type": "display_data"
    }
   ],
   "source": [
    "x_gr = []\n",
    "y_gr = []\n",
    "for i in range(100):\n",
    "    x_gr.append(inp_x[0] + i / 100)\n",
    "    y_gr.append(cubic_spline(inp_x[0] + i / 100, f, inp_x, n))\n",
    "plt.title('Cubic Spline')\n",
    "plt.grid(True)\n",
    "plt.scatter(xin, cubic_spline(xin, f, inp_x, n), color='red')\n",
    "plt.plot(x_gr, y_gr, color='blue')\n",
    "x_gr = []\n",
    "y_gr = []\n",
    "for i in range(100):\n",
    "    x_gr.append(inp_x[1] + i / 100)\n",
    "    y_gr.append(cubic_spline(inp_x[1] + i / 100, f, inp_x, n))\n",
    "plt.plot(x_gr, y_gr, color='red')\n",
    "x_gr = []\n",
    "y_gr = []\n",
    "for i in range(100):\n",
    "    x_gr.append(inp_x[2] + i / 100)\n",
    "    y_gr.append(cubic_spline(inp_x[2] + i / 100, f, inp_x, n))\n",
    "plt.plot(x_gr, y_gr, color='orange')\n",
    "x_gr = []\n",
    "y_gr = []\n",
    "for i in range(100):\n",
    "    x_gr.append(inp_x[3] + i / 100)\n",
    "    y_gr.append(cubic_spline(inp_x[3] + i / 100, f, inp_x, n))\n",
    "plt.plot(x_gr, y_gr, color='purple')\n",
    "plt.plot(x_gr, y_gr, color='green')\n",
    "plt.show()"
   ]
  },
  {
   "cell_type": "code",
   "execution_count": 130,
   "metadata": {},
   "outputs": [
    {
     "name": "stdout",
     "output_type": "stream",
     "text": [
      "0.13534  0.36788  1.0  2.7183\n"
     ]
    }
   ],
   "source": [
    "print('  '.join(map(str, alpha)))"
   ]
  },
  {
   "cell_type": "code",
   "execution_count": 131,
   "metadata": {},
   "outputs": [
    {
     "name": "stdout",
     "output_type": "stream",
     "text": [
      "0.2073227380952381  0.5599278571428572  1.4536991666666668  4.228628809523809\n"
     ]
    }
   ],
   "source": [
    "print('  '.join(map(str, b)))"
   ]
  },
  {
   "cell_type": "code",
   "execution_count": 132,
   "metadata": {},
   "outputs": [
    {
     "name": "stdout",
     "output_type": "stream",
     "text": [
      "0.0  0.07565178571428571  0.06527285714285716  0.6632567857142857  0.0\n"
     ]
    }
   ],
   "source": [
    "print('  '.join(map(str, c)))"
   ]
  },
  {
   "cell_type": "code",
   "execution_count": 133,
   "metadata": {},
   "outputs": [
    {
     "name": "stdout",
     "output_type": "stream",
     "text": [
      "0.025217261904761906  -0.003459642857142851  0.19932797619047618  -0.22108559523809523\n"
     ]
    }
   ],
   "source": [
    "print('  '.join(map(str, d)))"
   ]
  },
  {
   "cell_type": "markdown",
   "metadata": {},
   "source": [
    "# в точке 1 вычеслить значение первой и второй производной "
   ]
  },
  {
   "cell_type": "code",
   "execution_count": 123,
   "metadata": {},
   "outputs": [
    {
     "name": "stdout",
     "output_type": "stream",
     "text": [
      "3.23000142857143\n",
      "3.23000142857143\n"
     ]
    }
   ],
   "source": [
    "print(sympy.diff(f[2]).subs(x, 1))\n",
    "print(sympy.diff(f[3]).subs(x, 1))"
   ]
  },
  {
   "cell_type": "code",
   "execution_count": 134,
   "metadata": {},
   "outputs": [
    {
     "name": "stdout",
     "output_type": "stream",
     "text": [
      "1.32651357142857\n",
      "1.32651357142857\n"
     ]
    }
   ],
   "source": [
    "print(sympy.diff(sympy.diff(f[2])).subs(x, 1))\n",
    "print(sympy.diff(sympy.diff(f[3])).subs(x, 1))"
   ]
  },
  {
   "cell_type": "code",
   "execution_count": null,
   "metadata": {},
   "outputs": [],
   "source": []
  }
 ],
 "metadata": {
  "kernelspec": {
   "display_name": "Python 3",
   "language": "python",
   "name": "python3"
  },
  "language_info": {
   "codemirror_mode": {
    "name": "ipython",
    "version": 3
   },
   "file_extension": ".py",
   "mimetype": "text/x-python",
   "name": "python",
   "nbconvert_exporter": "python",
   "pygments_lexer": "ipython3",
   "version": "3.6.5"
  }
 },
 "nbformat": 4,
 "nbformat_minor": 2
}
