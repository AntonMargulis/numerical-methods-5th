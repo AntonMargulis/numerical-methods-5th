{
 "cells": [
  {
   "cell_type": "code",
   "execution_count": 1,
   "metadata": {},
   "outputs": [],
   "source": [
    "import sympy\n",
    "import numpy\n",
    "import math\n",
    "import matplotlib.pyplot as plt\n",
    "x = sympy.symbols('x')"
   ]
  },
  {
   "cell_type": "code",
   "execution_count": 2,
   "metadata": {},
   "outputs": [
    {
     "name": "stdout",
     "output_type": "stream",
     "text": [
      "(3*x + 4)/(2*x + 7)\n"
     ]
    }
   ],
   "source": [
    "y = (3*x+4)/(2*x+7) \n",
    "a = -2.0\n",
    "b = 2.0\n",
    "h = 1\n",
    "print(y)"
   ]
  },
  {
   "cell_type": "code",
   "execution_count": 3,
   "metadata": {},
   "outputs": [
    {
     "name": "stdout",
     "output_type": "stream",
     "text": [
      "-2.0  -1.0  0.0  1.0  2.0\n"
     ]
    }
   ],
   "source": [
    "arr_x = []\n",
    "z = 0.0\n",
    "while (a + h * z <= b):\n",
    "    arr_x.append(a + h * z)\n",
    "    z += 1.0\n",
    "print('  '.join(map(str, arr_x)))"
   ]
  },
  {
   "cell_type": "code",
   "execution_count": 4,
   "metadata": {},
   "outputs": [
    {
     "name": "stdout",
     "output_type": "stream",
     "text": [
      "Интеграл методом левых прямоугольников = 0.882539682539682\n",
      "Интеграл методом правых прямоугольников = 2.45829725829726\n",
      "Интеграл методом средних прямоугольников = 1.82916666666667\n"
     ]
    }
   ],
   "source": [
    "left_rec_sum = 0\n",
    "right_rec_sum = 0\n",
    "middle_rec_sum = 0\n",
    "for i in range(1, len(arr_x) - 1):\n",
    "    left_rec_sum += y.subs(x, arr_x[i])\n",
    "    right_rec_sum += y.subs(x, arr_x[i])\n",
    "    middle_rec_sum += y.subs(x, arr_x[i] + h / 2)\n",
    "left_rec_sum = (left_rec_sum + y.subs(x, arr_x[0])) * h\n",
    "right_rec_sum = (right_rec_sum + y.subs(x, arr_x[len(arr_x) - 1])) * h\n",
    "middle_rec_sum = (middle_rec_sum + y.subs(x, arr_x[0] + h / 2)) * h\n",
    "print(\"Интеграл методом левых прямоугольников = \", left_rec_sum, sep = '')\n",
    "print(\"Интеграл методом правых прямоугольников = \", right_rec_sum, sep = '')\n",
    "print(\"Интеграл методом средних прямоугольников = \", middle_rec_sum, sep = '')"
   ]
  },
  {
   "cell_type": "code",
   "execution_count": 5,
   "metadata": {},
   "outputs": [
    {
     "name": "stdout",
     "output_type": "stream",
     "text": [
      "(3*x + 4)/(2*x + 7)\n"
     ]
    }
   ],
   "source": [
    "h = 0.5\n",
    "print(y)"
   ]
  },
  {
   "cell_type": "code",
   "execution_count": 6,
   "metadata": {},
   "outputs": [
    {
     "name": "stdout",
     "output_type": "stream",
     "text": [
      "-2.0  -1.5  -1.0  -0.5  0.0  0.5  1.0  1.5  2.0\n"
     ]
    }
   ],
   "source": [
    "arr_x2 = []\n",
    "z = 0.0\n",
    "while (a + h * z <= b):\n",
    "    arr_x2.append(a + h * z)\n",
    "    z += 1.0\n",
    "print('  '.join(map(str, arr_x2)))"
   ]
  },
  {
   "cell_type": "code",
   "execution_count": 7,
   "metadata": {},
   "outputs": [
    {
     "name": "stdout",
     "output_type": "stream",
     "text": [
      "Интеграл методом левых прямоугольников = 1.35585317460317\n",
      "Интеграл методом правых прямоугольников = 2.14373196248196\n",
      "Интеграл методом средних прямоугольников = 1.79098191110575\n"
     ]
    }
   ],
   "source": [
    "left_rec_sum = 0\n",
    "right_rec_sum = 0\n",
    "middle_rec_sum = 0\n",
    "for i in range(1, len(arr_x2) - 1):\n",
    "    left_rec_sum += y.subs(x, arr_x2[i])\n",
    "    right_rec_sum += y.subs(x, arr_x2[i])\n",
    "    middle_rec_sum += y.subs(x, arr_x2[i] + h / 2)\n",
    "left_rec_sum2 = (left_rec_sum + y.subs(x, arr_x2[0])) * h\n",
    "right_rec_sum2 = (right_rec_sum + y.subs(x, arr_x2[len(arr_x2) - 1])) * h\n",
    "middle_rec_sum2 = (middle_rec_sum + y.subs(x, arr_x2[0] + h / 2)) * h\n",
    "print(\"Интеграл методом левых прямоугольников = \", left_rec_sum2, sep = '')\n",
    "print(\"Интеграл методом правых прямоугольников = \", right_rec_sum2, sep = '')\n",
    "print(\"Интеграл методом средних прямоугольников = \", middle_rec_sum2, sep = '')"
   ]
  },
  {
   "cell_type": "code",
   "execution_count": 8,
   "metadata": {},
   "outputs": [
    {
     "name": "stdout",
     "output_type": "stream",
     "text": [
      "-2.14812476824861\n"
     ]
    }
   ],
   "source": [
    "#погрешность по правилу рунге\n",
    "runge = middle_rec_sum2 - middle_rec_sum\n",
    "print(runge)"
   ]
  },
  {
   "cell_type": "markdown",
   "metadata": {},
   "source": [
    "посчитать методом левых и правых прямоугольников с шагом 0.5 и поправкой рунге"
   ]
  },
  {
   "cell_type": "code",
   "execution_count": 9,
   "metadata": {},
   "outputs": [
    {
     "name": "stdout",
     "output_type": "stream",
     "text": [
      "3.93910667935436\n"
     ]
    }
   ],
   "source": [
    "print (middle_rec_sum)"
   ]
  },
  {
   "cell_type": "code",
   "execution_count": null,
   "metadata": {},
   "outputs": [],
   "source": []
  }
 ],
 "metadata": {
  "kernelspec": {
   "display_name": "Python 3",
   "language": "python",
   "name": "python3"
  },
  "language_info": {
   "codemirror_mode": {
    "name": "ipython",
    "version": 3
   },
   "file_extension": ".py",
   "mimetype": "text/x-python",
   "name": "python",
   "nbconvert_exporter": "python",
   "pygments_lexer": "ipython3",
   "version": "3.6.5"
  }
 },
 "nbformat": 4,
 "nbformat_minor": 2
}
