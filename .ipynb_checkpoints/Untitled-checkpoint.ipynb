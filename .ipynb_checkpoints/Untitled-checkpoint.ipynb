{
 "cells": [
  {
   "cell_type": "code",
   "execution_count": 35,
   "metadata": {},
   "outputs": [],
   "source": [
    "import sympy\n",
    "import numpy\n",
    "import matplotlib.pyplot as plt\n",
    "q = sympy.symbols('x')"
   ]
  },
  {
   "cell_type": "code",
   "execution_count": 36,
   "metadata": {},
   "outputs": [],
   "source": [
    "x = [-3.0, -2.0, -1.0, 0.0, 1.0, 2.0]\n",
    "y = [0.04978, 0.13534, 0.36788, 1.0, 2.7183, 7.3891]"
   ]
  },
  {
   "cell_type": "code",
   "execution_count": 37,
   "metadata": {},
   "outputs": [],
   "source": [
    "k0 = 6\n",
    "k1=0\n",
    "k2=0\n",
    "k3=0\n",
    "k4=0\n",
    "k5=0\n",
    "k6=0\n",
    "k7=0\n",
    "k8=0\n",
    "k9=0\n",
    "k10=0"
   ]
  },
  {
   "cell_type": "code",
   "execution_count": 38,
   "metadata": {},
   "outputs": [],
   "source": [
    "for i in range(len(x)) :\n",
    "    k1 += x[i]\n",
    "    k2 += pow(x[i],2)\n",
    "    k3 += pow(x[i],3)\n",
    "    k4 += pow(x[i],3)\n",
    "    k5 += pow(x[i],3)\n",
    "    k6 += pow(x[i],3)\n",
    "    k7 += y[i]\n",
    "    k8 += x[i]*y[i]\n",
    "    k9 += pow(x[i],2)*y[i]\n",
    "    k10 += pow(x[i],3)*y[i]"
   ]
  },
  {
   "cell_type": "code",
   "execution_count": 50,
   "metadata": {},
   "outputs": [
    {
     "name": "stdout",
     "output_type": "stream",
     "text": [
      "linear_polinom = 1.28793142857143*x + 2.58736571428571\n"
     ]
    }
   ],
   "source": [
    "a=(k0*k8-k1*k7)/(k2*k0-k1*k1);\n",
    "b=(k7-k1*a)/k0;\n",
    "pol1 = a*q + b\n",
    "print(\"linear_polinom = \", pol1, sep='')\n",
    "#\"linear_polinom = \", a, \"*x + \", b"
   ]
  },
  {
   "cell_type": "code",
   "execution_count": 51,
   "metadata": {},
   "outputs": [
    {
     "name": "stdout",
     "output_type": "stream",
     "text": [
      "quadratic_polinom = -0.18388050955414*x**2 + 1.10405091901729*x + 3.07771373976342\n"
     ]
    }
   ],
   "source": [
    "sum1 = 0\n",
    "for i in range(len(x)) :\n",
    "    sum1+=pow(y[i]-(a*x[i]+b),2)\n",
    "a=((k2*k9-k8*k3)*(k1*k2-k0*k3)-(k9*k1-k7*k3)*(k2*k2-k1*k3))/((k4*k2-k3*k3)*(k1*k2-k0*k3)-(k1*k4-k2*k3)*(k2*k2-k1*k3))\n",
    "c=(a*(k3*k3-k4*k2)+k2*k9-k8*k3)/(k2*k2-k1*k3)\n",
    "b=(k7-k0*c-k2*a)/k1\n",
    "pol2 = a*q*q + b*q + c\n",
    "print(\"quadratic_polinom = \", pol2, sep='')\n",
    "#\"quadratic_polinom = \", a, \"*x^2 + \", b, \"*x + \", c"
   ]
  },
  {
   "cell_type": "code",
   "execution_count": 60,
   "metadata": {},
   "outputs": [
    {
     "name": "stdout",
     "output_type": "stream",
     "text": [
      "cubic_polinom = -0.698269544822212*x**3 - 0.303965080956686*x**2 - 0.632028884688091*x - 0.552271304347826\n"
     ]
    }
   ],
   "source": [
    "sum2 = 0\n",
    "for i in range(len(x)) :\n",
    "    sum2+=pow(y[i]-(a*x[i]*x[i]+b*x[i]+c),2)\n",
    "res1=(k6*k2-k5*k3)*(k2*k0-k1*k1)-(k4*k0-k3*k1)*(k4*k2-k3*k3)\n",
    "res2=(k5*k2-k4*k3)*(k2*k0-k1*k1)-(k3*k0-k2*k1)*(k4*k2-k3*k3)\n",
    "res3=(k10*k2-k9*k3)*(k2*k0-k1*k1)-(k8*k0-k7*k1)*(k4*k2-k3*k3)\n",
    "res4=(k5*k0-k3*k2)*(k4*k1-k2*k3)-(k6*k1-k4*k3)*(k3*k0-k1*k2)\n",
    "res5=(k4*k0-k2*k2)*(k4*k1-k2*k3)-(k5*k1-k3*k3)*(k3*k0-k1*k2)\n",
    "res6=(k9*k0-k7*k2)*(k4*k1-k2*k3)-(k10*k1-k8*k3)*(k3*k0-k1*k2)\n",
    "a=(res3*res5-res6*res2)/(res1*res5-res2*res4)\n",
    "b=(res6-a*res4)/res5\n",
    "c=((k9*k0-k7*k2)-a*(k5*k0-k3*k2)-b*(k4*k0-k2*k2))/(k3*k0-k1*k2)\n",
    "d=(k10-k4*c-k5*b-k6*a)/k3\n",
    "pol3 = a*q*q*q + b*q*q + c*q + d\n",
    "print(\"cubic_polinom = \", pol3, sep='')\n",
    "#\"cubic_polinom = \", a, \"*x^3 + \", b, \"*x^2 + \", c, \"*x + \", d, sep=''"
   ]
  },
  {
   "cell_type": "code",
   "execution_count": null,
   "metadata": {},
   "outputs": [],
   "source": []
  }
 ],
 "metadata": {
  "kernelspec": {
   "display_name": "Python 3",
   "language": "python",
   "name": "python3"
  },
  "language_info": {
   "codemirror_mode": {
    "name": "ipython",
    "version": 3
   },
   "file_extension": ".py",
   "mimetype": "text/x-python",
   "name": "python",
   "nbconvert_exporter": "python",
   "pygments_lexer": "ipython3",
   "version": "3.6.5"
  }
 },
 "nbformat": 4,
 "nbformat_minor": 2
}
