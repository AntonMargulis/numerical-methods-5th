{
 "cells": [
  {
   "cell_type": "code",
   "execution_count": 2,
   "metadata": {},
   "outputs": [],
   "source": [
    "import sympy\n",
    "import numpy\n",
    "import matplotlib.pyplot as plt\n",
    "x = sympy.symbols('x')"
   ]
  },
  {
   "cell_type": "code",
   "execution_count": 3,
   "metadata": {},
   "outputs": [
    {
     "name": "stdout",
     "output_type": "stream",
     "text": [
      "x*sqrt(-x**2 + 49)\n"
     ]
    }
   ],
   "source": [
    "y = x*sympy.sqrt(49-x**2)\n",
    "a = -2.0\n",
    "b = 2.0\n",
    "h = 1.0\n",
    "print(y)"
   ]
  },
  {
   "cell_type": "code",
   "execution_count": 4,
   "metadata": {},
   "outputs": [
    {
     "name": "stdout",
     "output_type": "stream",
     "text": [
      "-2.0  -1.0  0.0  1.0  2.0\n"
     ]
    }
   ],
   "source": [
    "arr_x = []\n",
    "z = 0.0\n",
    "while (a + h * z <= b):\n",
    "    arr_x.append(a + h * z)\n",
    "    z += 1.0\n",
    "print('  '.join(map(str, arr_x)))"
   ]
  },
  {
   "cell_type": "code",
   "execution_count": 5,
   "metadata": {},
   "outputs": [
    {
     "name": "stdout",
     "output_type": "stream",
     "text": [
      "Интеграл методом трапеций равен = 0\n"
     ]
    }
   ],
   "source": [
    "trap_sum = (y.subs(x, arr_x[0]) + y.subs(x, arr_x[len(arr_x) - 1])) / 2\n",
    "for i in range(1, len(arr_x) - 1):\n",
    "    trap_sum += y.subs(x, arr_x[i])\n",
    "trap_sum *= h\n",
    "print(\"Интеграл методом трапеций равен = \", trap_sum, sep = '')"
   ]
  },
  {
   "cell_type": "code",
   "execution_count": 6,
   "metadata": {},
   "outputs": [
    {
     "name": "stdout",
     "output_type": "stream",
     "text": [
      "-2.0  -1.5  -1.0  -0.5  0.0  0.5  1.0  1.5  2.0\n"
     ]
    }
   ],
   "source": [
    "arr_x_simps = []\n",
    "z = 0\n",
    "while (a + z * (h / 2) <= b):\n",
    "    arr_x_simps.append(a + h / 2 * z)\n",
    "    z += 1\n",
    "print('  '.join(map(str, arr_x_simps)))"
   ]
  },
  {
   "cell_type": "code",
   "execution_count": 7,
   "metadata": {},
   "outputs": [
    {
     "name": "stdout",
     "output_type": "stream",
     "text": [
      "Интеграл методом Симпсона = 0\n"
     ]
    }
   ],
   "source": [
    "simps_sum = y.subs(x,arr_x_simps[0]) + y.subs(x,arr_x_simps[len(arr_x_simps) - 1])\n",
    "for i in range(1, len(arr_x_simps) - 1):\n",
    "    if i % 2:\n",
    "        simps_sum += 4 * y.subs(x,arr_x_simps[i])\n",
    "    else:\n",
    "        simps_sum += 2 * y.subs(x,arr_x_simps[i])\n",
    "simps_sum *= h / 6\n",
    "print(\"Интеграл методом Симпсона = \", simps_sum, sep = '')"
   ]
  },
  {
   "cell_type": "code",
   "execution_count": 8,
   "metadata": {},
   "outputs": [
    {
     "name": "stdout",
     "output_type": "stream",
     "text": [
      "Интеграл методом левых прямоугольников = -13.4164078649987\n",
      "Интеграл методом правых прямоугольников = 13.4164078649987\n",
      "Интеграл методом средних прямоугольников = 0\n"
     ]
    }
   ],
   "source": [
    "left_rec_sum = 0\n",
    "right_rec_sum = 0\n",
    "middle_rec_sum = 0\n",
    "for i in range(1, len(arr_x) - 1):\n",
    "    left_rec_sum += y.subs(x, arr_x[i])\n",
    "    right_rec_sum += y.subs(x, arr_x[i])\n",
    "    middle_rec_sum += y.subs(x, arr_x[i] + h / 2)\n",
    "left_rec_sum = (left_rec_sum + y.subs(x, arr_x[0])) * h\n",
    "right_rec_sum = (right_rec_sum + y.subs(x, arr_x[len(arr_x) - 1])) * h\n",
    "middle_rec_sum = (middle_rec_sum + y.subs(x, arr_x[0] + h / 2)) * h\n",
    "print(\"Интеграл методом левых прямоугольников = \", left_rec_sum, sep = '')\n",
    "print(\"Интеграл методом правых прямоугольников = \", right_rec_sum, sep = '')\n",
    "print(\"Интеграл методом средних прямоугольников = \", middle_rec_sum, sep = '')"
   ]
  },
  {
   "cell_type": "code",
   "execution_count": 9,
   "metadata": {},
   "outputs": [],
   "source": [
    "#погрешность по правилу рунге\n",
    "simps_sum1 = simps_sum\n",
    "left_rec_sum1 = left_rec_sum\n",
    "right_rec_sum1 = right_rec_sum\n",
    "middle_rec_sum1 = middle_rec_sum\n",
    "trap_sum1 = trap_sum"
   ]
  },
  {
   "cell_type": "code",
   "execution_count": 10,
   "metadata": {},
   "outputs": [
    {
     "name": "stdout",
     "output_type": "stream",
     "text": [
      "Симпсон: 0\n",
      "Трапеция: 0\n",
      "Средний прямоугольник: 0\n"
     ]
    }
   ],
   "source": [
    "print(\"Симпсон: \", simps_sum1 + (simps_sum - simps_sum1) / 15, sep = '')\n",
    "print(\"Трапеция: \", trap_sum1 + (trap_sum - trap_sum1) / 3, sep = '')\n",
    "print(\"Средний прямоугольник: \", middle_rec_sum1 + (middle_rec_sum - middle_rec_sum1) / 3, sep = '')"
   ]
  },
  {
   "cell_type": "markdown",
   "metadata": {},
   "source": [
    "# посчитать методом левых и правых прямоугольников с шагом 0.5 и правилом рунге"
   ]
  },
  {
   "cell_type": "code",
   "execution_count": null,
   "metadata": {},
   "outputs": [],
   "source": []
  }
 ],
 "metadata": {
  "kernelspec": {
   "display_name": "Python 3",
   "language": "python",
   "name": "python3"
  },
  "language_info": {
   "codemirror_mode": {
    "name": "ipython",
    "version": 3
   },
   "file_extension": ".py",
   "mimetype": "text/x-python",
   "name": "python",
   "nbconvert_exporter": "python",
   "pygments_lexer": "ipython3",
   "version": "3.6.5"
  }
 },
 "nbformat": 4,
 "nbformat_minor": 2
}
