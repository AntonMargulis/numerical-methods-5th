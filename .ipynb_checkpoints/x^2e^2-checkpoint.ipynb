{
 "cells": [
  {
   "cell_type": "code",
   "execution_count": 31,
   "metadata": {},
   "outputs": [
    {
     "name": "stdout",
     "output_type": "stream",
     "text": [
      "[-1.2, -0.7, -0.2, 0.3]\n"
     ]
    }
   ],
   "source": [
    "import math\n",
    "readinput = [-1.2, -0.7, -0.2, 0.3]\n",
    "x_in = -0.5\n",
    "print(readinput)"
   ]
  },
  {
   "cell_type": "code",
   "execution_count": 32,
   "metadata": {},
   "outputs": [],
   "source": [
    "def myFunc(arg) :\n",
    "    res = arg*arg*math.exp(arg)\n",
    "    return res"
   ]
  },
  {
   "cell_type": "code",
   "execution_count": 33,
   "metadata": {},
   "outputs": [],
   "source": [
    "#Лагранж\n",
    "def lag(xin, readinput):\n",
    "    a = []\n",
    "    for number in range(len(readinput)):\n",
    "        sum = 1\n",
    "        for i in range(len(readinput)):\n",
    "            if (i != number):\n",
    "                sum *= (xin - readinput[i]) / (readinput[number] - readinput[i])   \n",
    "        a.append(myFunc(readinput[number]) * sum)\n",
    "    sum = 0\n",
    "    for number in range(len(a)):\n",
    "        sum += a[number]\n",
    "    return sum"
   ]
  },
  {
   "cell_type": "code",
   "execution_count": 34,
   "metadata": {},
   "outputs": [],
   "source": [
    "#Ньютон\n",
    "f_of = []\n",
    "def make_f_of():\n",
    "    for i in range(len(readinput)):\n",
    "        f_of.append([])\n",
    "    for i in range(len(readinput)):\n",
    "        f_of[i].append(myFunc(readinput[i]))\n",
    "    for j in range(1, len(readinput)):\n",
    "        for i in range(len(readinput)):\n",
    "            if (i <= len(readinput) - j - 1):\n",
    "                f_of[i].append((f_of[i + 1][j - 1] - f_of[i][j - 1]) / (readinput[i + j] - readinput[i]))"
   ]
  },
  {
   "cell_type": "code",
   "execution_count": 35,
   "metadata": {},
   "outputs": [],
   "source": [
    "def newton(f_of, xin, readinput):\n",
    "    proizv = 1\n",
    "    sum = 0\n",
    "    for i in range(len(f_of[0])):\n",
    "        if (i != 0):\n",
    "            proizv *= xin - readinput[i - 1]\n",
    "        sum += f_of[0][i] * proizv\n",
    "    return sum"
   ]
  },
  {
   "cell_type": "code",
   "execution_count": 36,
   "metadata": {},
   "outputs": [
    {
     "name": "stdout",
     "output_type": "stream",
     "text": [
      "Значение в изначально заданной точке (по Ньютону) (x = -0.5) = 0.14362591696758112\n",
      "Значение в изначально заданной точке (по Лагранжу) (x = -0.5) = 0.1436259169675812\n"
     ]
    }
   ],
   "source": [
    "make_f_of()\n",
    "print(\"Значение в изначально заданной точке (по Ньютону) (x = \", x_in, \") = \", newton(f_of, x_in, readinput), sep ='')\n",
    "z = []\n",
    "print(\"Значение в изначально заданной точке (по Лагранжу) (x = \", x_in, \") = \", lag(x_in, readinput), sep ='')"
   ]
  },
  {
   "cell_type": "code",
   "execution_count": 37,
   "metadata": {},
   "outputs": [],
   "source": [
    "xFunc = []\n",
    "yFunc = []\n",
    "xLag = []\n",
    "yLag = []\n",
    "xNewton = []\n",
    "yNewton = []\n",
    "for num in range(500):\n",
    "    xFunc.append(-3 + num * 0.01)\n",
    "    yFunc.append(myFunc(-3 + num*0.01))\n",
    "    xLag.append(-3 +num * 0.01)\n",
    "    yLag.append(lag(-3 + num * 0.01, readinput))\n",
    "    xNewton.append(-3 + num * 0.01)\n",
    "    yNewton.append(newton(f_of, -3 + num * 0.01, readinput))"
   ]
  },
  {
   "cell_type": "code",
   "execution_count": 38,
   "metadata": {},
   "outputs": [
    {
     "data": {
      "image/png": "[encoded data removed]",
      "text/plain": [
       "<Figure size 432x288 with 1 Axes>"
      ]
     },
     "metadata": {},
     "output_type": "display_data"
    }
   ],
   "source": [
    "# график многочлена в форме Лагранжа\n",
    "import matplotlib.pyplot as plt\n",
    "plt.title('Lagrange fuction')\n",
    "plt.grid(True)\n",
    "plt.xlabel('X-line')\n",
    "plt.ylabel('Y-line')\n",
    "plt.scatter(x_in, myFunc(x_in), color='red')\n",
    "plt.plot(xFunc, yFunc, color='blue')\n",
    "plt.plot(xLag, yLag, color='green')\n",
    "plt.show()"
   ]
  },
  {
   "cell_type": "code",
   "execution_count": 39,
   "metadata": {},
   "outputs": [
    {
     "data": {
      "image/png": "[encoded data removed]",
      "text/plain": [
       "<Figure size 432x288 with 1 Axes>"
      ]
     },
     "metadata": {},
     "output_type": "display_data"
    }
   ],
   "source": [
    "# график многочлена в форме Ньютона\n",
    "import matplotlib.pyplot as plt\n",
    "plt.title('Newton fuction')\n",
    "plt.grid(True)\n",
    "plt.xlabel('X-line')\n",
    "plt.ylabel('Y-line')\n",
    "plt.scatter(x_in, myFunc(x_in), color='red')\n",
    "plt.plot(xFunc, yFunc, color='blue')\n",
    "plt.plot(xNewton, yNewton, color='green')\n",
    "plt.show()"
   ]
  },
  {
   "cell_type": "markdown",
   "metadata": {},
   "source": [
    "# найти производную от разности функции и полинома в узлах интерполяции"
   ]
  },
  {
   "cell_type": "code",
   "execution_count": 46,
   "metadata": {},
   "outputs": [],
   "source": [
    "from sympy import *\n",
    "def diffLagranj(xin, readinput):\n",
    "    x = symbols('x')\n",
    "    a = []\n",
    "    \n",
    "    for number in range(len(readinput)):\n",
    "        sum = 1\n",
    "        for i in range(len(readinput)):\n",
    "            if (i != number):\n",
    "                sum *= (x - readinput[i]) / (readinput[number] - readinput[i])   \n",
    "        a.append(diff(myFunc(readinput[number]) * sum, x))\n",
    "    sum = 0\n",
    "    \n",
    "    for number in range(len(a)):\n",
    "        sum += a[number]\n",
    "        \n",
    "    return sum.subs({x:xin})"
   ]
  },
  {
   "cell_type": "code",
   "execution_count": 47,
   "metadata": {},
   "outputs": [],
   "source": [
    "def myFuncDiff(arg) :\n",
    "    res = ( 2*arg*math.exp(arg) ) + ( arg*arg*math.exp(arg) )\n",
    "    return res"
   ]
  },
  {
   "cell_type": "code",
   "execution_count": 67,
   "metadata": {},
   "outputs": [],
   "source": [
    "#дифференциал Лагр. и функции\n",
    "xLagDiff = []\n",
    "yLagDiff = []\n",
    "xFuncDiff = []\n",
    "yFuncDiff = []\n",
    "yArr = []\n",
    "for i in range(len(readinput)) :\n",
    "    yArr.append(diffLagranj(readinput[i], readinput))\n",
    "for num in range(450):\n",
    "    xLagDiff.append(-3 + num * 0.01)\n",
    "    yLagDiff.append(diffLagranj(-3 + num * 0.01, readinput))\n",
    "    xFuncDiff.append(-3 + num * 0.01)\n",
    "    yFuncDiff.append(myFuncDiff(-3 + num*0.01))"
   ]
  },
  {
   "cell_type": "code",
   "execution_count": 69,
   "metadata": {},
   "outputs": [
    {
     "name": "stdout",
     "output_type": "stream",
     "text": [
      "[-0.147600807664481, -0.507470546274546, -0.228339617420045, 0.689791978899023]\n"
     ]
    }
   ],
   "source": [
    "print(yArr)"
   ]
  },
  {
   "cell_type": "code",
   "execution_count": 68,
   "metadata": {},
   "outputs": [
    {
     "data": {
      "image/png": "[encoded data removed]",
      "text/plain": [
       "<Figure size 432x288 with 1 Axes>"
      ]
     },
     "metadata": {},
     "output_type": "display_data"
    }
   ],
   "source": [
    "# график многочлена в форме Лагранжа\n",
    "import matplotlib.pyplot as plt\n",
    "plt.title('Differentiation')\n",
    "plt.grid(True)\n",
    "plt.xlabel('X-line')\n",
    "plt.ylabel('Y-line')\n",
    "plt.scatter(readinput, yArr, color='red')\n",
    "plt.plot(xFuncDiff, yFuncDiff, color='blue')\n",
    "plt.plot(xLagDiff, yLagDiff, color='green')\n",
    "plt.show()"
   ]
  },
  {
   "cell_type": "code",
   "execution_count": 79,
   "metadata": {},
   "outputs": [],
   "source": [
    "x_diff_raznici_lag_and_myFunc = []\n",
    "y_diff_raznici_lag_and_myFunc = []\n",
    "for num in range(200):\n",
    "    x_diff_raznici_lag_and_myFunc.append(-0.2 + num * 0.01)\n",
    "    y_diff_raznici_lag_and_myFunc.append(diff_lagranj(-0.2 + num * 0.01, readinput)-myFuncDiff(-0.2 + num*0.01))"
   ]
  },
  {
   "cell_type": "code",
   "execution_count": 80,
   "metadata": {},
   "outputs": [
    {
     "name": "stdout",
     "output_type": "stream",
     "text": [
      "[0.141545635771233, -0.0555779198243637, 0.0664034536880286, -0.241610598328419]\n"
     ]
    }
   ],
   "source": [
    "yArrRaznost = []\n",
    "for i in range(len(readinput)) :\n",
    "    yArrRaznost.append(diff_lagranj(readinput[i], readinput)-myFuncDiff(readinput[i]))\n",
    "print(yArrRaznost)"
   ]
  },
  {
   "cell_type": "code",
   "execution_count": 82,
   "metadata": {},
   "outputs": [
    {
     "data": {
      "image/png": "[encoded data removed]",
      "text/plain": [
       "<Figure size 432x288 with 1 Axes>"
      ]
     },
     "metadata": {},
     "output_type": "display_data"
    }
   ],
   "source": [
    "import matplotlib.pyplot as plt\n",
    "plt.title('diff raznici')\n",
    "plt.grid(True)\n",
    "plt.plot(x_diff_raznici_lag_and_myFunc, y_diff_raznici_lag_and_myFunc, color='blue')\n",
    "plt.show()"
   ]
  },
  {
   "cell_type": "code",
   "execution_count": null,
   "metadata": {},
   "outputs": [],
   "source": []
  }
 ],
 "metadata": {
  "kernelspec": {
   "display_name": "Python 3",
   "language": "python",
   "name": "python3"
  },
  "language_info": {
   "codemirror_mode": {
    "name": "ipython",
    "version": 3
   },
   "file_extension": ".py",
   "mimetype": "text/x-python",
   "name": "python",
   "nbconvert_exporter": "python",
   "pygments_lexer": "ipython3",
   "version": "3.6.5"
  }
 },
 "nbformat": 4,
 "nbformat_minor": 2
}
