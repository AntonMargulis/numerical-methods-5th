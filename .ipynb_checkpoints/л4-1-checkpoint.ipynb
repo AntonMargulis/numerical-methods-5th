{
 "cells": [
  {
   "cell_type": "markdown",
   "metadata": {},
   "source": [
    "Данное домашнее задание посвящено схеме базе данных, связанной с футбольным командами. Схема расположена в hw_diagram.jpg\n",
    "## Описание таблиц \n",
    "\n",
    "### Positions \n",
    "Позиции игроков\n",
    "id - уникальный идентификатор позиции \n",
    "Name - Название таблицы \n",
    "\n",
    "### Coaches \n",
    "Таблица тренеров \n",
    "id - уникальный идентификатор тренера\n",
    "Name - имя тренера \n",
    "\n",
    "## Teams \n",
    "Таблица команд \n",
    "id - уникальный идентификатор  команды \n",
    "Name - имя команды \n",
    "Location - расположение команды \n",
    "Coach_id - идентификатор тренера \n",
    "\n",
    "### Players \n",
    "Таблица игроков \n",
    "Id - уникальный идентификатор игрока \n",
    "Name - имя игрока \n",
    "Age - возраст игрока \n",
    "Position_id - идентификатор позиции \n",
    "Team_id - идентификатор команды \n",
    "Start_date - дата начала игры в команде \n",
    "\n",
    "### PlayersArchive \n",
    "Архив по игрокам (информация о том, в какой команде игрок играл ранее) \n",
    "player_id - идентификатор игрока \n",
    "team_id - идентификатор команды \n",
    "start_date - дата начала игры \n",
    "end_date - дата окончания игры"
   ]
  },
  {
   "cell_type": "markdown",
   "metadata": {},
   "source": [
    "# Задание 1\n",
    "Реализовать перенакатываемые sql-скрипты по схеме hw_diagram, приложенного ниже."
   ]
  },
  {
   "cell_type": "code",
   "execution_count": 1,
   "metadata": {},
   "outputs": [
    {
     "data": {
      "text/plain": [
       "'Connected: @chinook.db'"
      ]
     },
     "execution_count": 1,
     "metadata": {},
     "output_type": "execute_result"
    }
   ],
   "source": [
    "%load_ext sql\n",
    "%sql sqlite:///chinook.db"
   ]
  },
  {
   "cell_type": "code",
   "execution_count": 2,
   "metadata": {},
   "outputs": [
    {
     "name": "stdout",
     "output_type": "stream",
     "text": [
      " * sqlite:///chinook.db\n",
      "Done.\n",
      "Done.\n",
      "Done.\n",
      "Done.\n",
      "Done.\n",
      "Done.\n",
      "Done.\n",
      "Done.\n",
      "Done.\n",
      "Done.\n",
      "Done.\n"
     ]
    },
    {
     "data": {
      "text/plain": [
       "[]"
      ]
     },
     "execution_count": 2,
     "metadata": {},
     "output_type": "execute_result"
    }
   ],
   "source": [
    "%%sql\n",
    "Pragma foreign_key=on;\n",
    "DROP TABLE if exists Positions;\n",
    "CREATE TABLE Positions (ID integer Primary key,\n",
    "                        position_name varchar(20)\n",
    "                       );\n",
    "\n",
    "DROP TABLE if exists Coaches;\n",
    "CREATE TABLE Coaches (ID integer Primary key,\n",
    "                      coach_name varchar(20)\n",
    "                     );\n",
    "\n",
    "DROP TABLE if exists Teams;\n",
    "CREATE TABLE Teams (ID integer Primary key,\n",
    "                   team_name varchar(20),\n",
    "                   location varchar(20),\n",
    "                   coach_id integer,\n",
    "                   foreign key(coach_id) references Coaches(ID)\n",
    "                  );\n",
    "\n",
    "DROP TABLE if exists Players;\n",
    "CREATE TABLE Players (ID integer Primary key,\n",
    "                      player_name varchar(20),\n",
    "                      age integer,\n",
    "                      start_date date,\n",
    "                      position_id integer,\n",
    "                      team_id integer,\n",
    "                      foreign key(team_id) references Teams(ID),\n",
    "                      foreign key(position_id) references Posirions(ID)\n",
    "                     );\n",
    "\n",
    "DROP TABLE if exists PlayersArchive;\n",
    "CREATE TABLE PlayersArchive (player_id integer,\n",
    "                             team_id integer,\n",
    "                             start_date date,\n",
    "                             end_date date,\n",
    "                             Primary key(player_id, team_id, start_date),\n",
    "                             foreign key(player_id) references Players(ID),\n",
    "                             foreign key(team_id) references Teams(ID)\n",
    "                            );\n"
   ]
  },
  {
   "cell_type": "markdown",
   "metadata": {},
   "source": [
    "# Задание 2\n",
    "Написать sql-скрипт, осуществляюший добавление всех возможных позиций игроков. (В данной задаче можно ограничится четырьмя - вратарь, защитник, полузащитник, нападающий)"
   ]
  },
  {
   "cell_type": "code",
   "execution_count": 3,
   "metadata": {},
   "outputs": [],
   "source": [
    "import sqlite3\n",
    "db=sqlite3.connect('chinook.db')\n",
    "def insert_position(name):\n",
    "    cur = db.cursor()\n",
    "    cur.execute( '''select coalesce(max(ID)+1,1) from Positions''')\n",
    "    ID = cur.fetchone()[0]\n",
    "    cur.execute('''insert into Positions(ID, position_name) VALUES(?,?)''', (ID,name))\n",
    "    db.commit()"
   ]
  },
  {
   "cell_type": "code",
   "execution_count": 4,
   "metadata": {},
   "outputs": [],
   "source": [
    "insert_position('goalkeeper')\n",
    "insert_position('defender')\n",
    "insert_position('halfback')\n",
    "insert_position('forward')"
   ]
  },
  {
   "cell_type": "code",
   "execution_count": 5,
   "metadata": {},
   "outputs": [
    {
     "name": "stdout",
     "output_type": "stream",
     "text": [
      " * sqlite:///chinook.db\n",
      "Done.\n"
     ]
    },
    {
     "data": {
      "text/html": [
       "<table>\n",
       "    <tr>\n",
       "        <th>ID</th>\n",
       "        <th>position_name</th>\n",
       "    </tr>\n",
       "    <tr>\n",
       "        <td>1</td>\n",
       "        <td>goalkeeper</td>\n",
       "    </tr>\n",
       "    <tr>\n",
       "        <td>2</td>\n",
       "        <td>defender</td>\n",
       "    </tr>\n",
       "    <tr>\n",
       "        <td>3</td>\n",
       "        <td>halfback</td>\n",
       "    </tr>\n",
       "    <tr>\n",
       "        <td>4</td>\n",
       "        <td>forward</td>\n",
       "    </tr>\n",
       "</table>"
      ],
      "text/plain": [
       "[(1, 'goalkeeper'), (2, 'defender'), (3, 'halfback'), (4, 'forward')]"
      ]
     },
     "execution_count": 5,
     "metadata": {},
     "output_type": "execute_result"
    }
   ],
   "source": [
    "%%sql\n",
    "select * from Positions"
   ]
  },
  {
   "cell_type": "markdown",
   "metadata": {},
   "source": [
    "# Задание 3\n",
    "Написать функцию, осуществляющую добавление тренера. На вход функции подается имя тренера. При невозможности вставки функция должна обработать данное исключение и вывести пользователю информацию о проблеме\n",
    "\n",
    "После написания функции необходимо добавить несколько тренеров для таблицы."
   ]
  },
  {
   "cell_type": "code",
   "execution_count": 6,
   "metadata": {},
   "outputs": [],
   "source": [
    "def insert_coach(name):\n",
    "    cur = db.cursor()\n",
    "    cur.execute('''select coalesce(max(ID)+1,1) from Coaches''')\n",
    "    ID = cur.fetchone()[0]\n",
    "    try:\n",
    "        cur.execute('''insert into Coaches(ID, coach_name) VALUES(?,?)''', (ID,name))\n",
    "        db.commit()\n",
    "    except TypeError:\n",
    "        print('произошла ошибка')"
   ]
  },
  {
   "cell_type": "code",
   "execution_count": 7,
   "metadata": {},
   "outputs": [],
   "source": [
    "insert_coach('Johnson')\n",
    "insert_coach('Nackson')\n",
    "insert_coach('Kerly')\n",
    "insert_coach('Tomphson')"
   ]
  },
  {
   "cell_type": "code",
   "execution_count": 8,
   "metadata": {},
   "outputs": [
    {
     "name": "stdout",
     "output_type": "stream",
     "text": [
      " * sqlite:///chinook.db\n",
      "Done.\n"
     ]
    },
    {
     "data": {
      "text/html": [
       "<table>\n",
       "    <tr>\n",
       "        <th>ID</th>\n",
       "        <th>coach_name</th>\n",
       "    </tr>\n",
       "    <tr>\n",
       "        <td>1</td>\n",
       "        <td>Johnson</td>\n",
       "    </tr>\n",
       "    <tr>\n",
       "        <td>2</td>\n",
       "        <td>Nackson</td>\n",
       "    </tr>\n",
       "    <tr>\n",
       "        <td>3</td>\n",
       "        <td>Kerly</td>\n",
       "    </tr>\n",
       "    <tr>\n",
       "        <td>4</td>\n",
       "        <td>Tomphson</td>\n",
       "    </tr>\n",
       "</table>"
      ],
      "text/plain": [
       "[(1, 'Johnson'), (2, 'Nackson'), (3, 'Kerly'), (4, 'Tomphson')]"
      ]
     },
     "execution_count": 8,
     "metadata": {},
     "output_type": "execute_result"
    }
   ],
   "source": [
    "%%sql\n",
    "select * from Coaches"
   ]
  },
  {
   "cell_type": "markdown",
   "metadata": {},
   "source": [
    "# Задание 4\n",
    "\n",
    "Написать функцию, осуществляющую добавление команды. На вход функция принимает (имя команды, местоположение, имя тренера).\n",
    "На выходе должна быть добавлена команда.\n",
    "\n",
    "После написания функции необходимо добавить несколько команд"
   ]
  },
  {
   "cell_type": "code",
   "execution_count": 9,
   "metadata": {},
   "outputs": [],
   "source": [
    "def insert_team(name, location, name_coach):\n",
    "    cur = db.cursor()\n",
    "    coach_id = check_coach(name_coach)\n",
    "    if coach_id==-1:\n",
    "        return -1 \n",
    "    cur.execute('''select coalesce(max(ID)+1,1) from Teams''')\n",
    "    ID = cur.fetchone()[0]\n",
    "    cur.execute('''insert into Teams(ID, team_name, location, coach_id) VALUES(?,?,?,?)''', (ID,name,location,coach_id))\n",
    "    db.commit()"
   ]
  },
  {
   "cell_type": "code",
   "execution_count": 10,
   "metadata": {},
   "outputs": [],
   "source": [
    "def check_coach(name):\n",
    "    cur = db.cursor()\n",
    "    cur.execute('''select ID from Coaches where coach_name = ?''', (name,))\n",
    "    try:\n",
    "        coach_id = cur.fetchone()[0]\n",
    "        return coach_id\n",
    "    except TypeError:\n",
    "        print('Такого тренера не существует')\n",
    "        return -1"
   ]
  },
  {
   "cell_type": "code",
   "execution_count": 11,
   "metadata": {},
   "outputs": [],
   "source": [
    "insert_team('Barsa','Barselona','Johnson')\n",
    "insert_team('Real','Madrid','Nackson')\n",
    "insert_team('Chelsea','London','Kerly')\n"
   ]
  },
  {
   "cell_type": "code",
   "execution_count": 12,
   "metadata": {},
   "outputs": [
    {
     "name": "stdout",
     "output_type": "stream",
     "text": [
      " * sqlite:///chinook.db\n",
      "Done.\n"
     ]
    },
    {
     "data": {
      "text/html": [
       "<table>\n",
       "    <tr>\n",
       "        <th>ID</th>\n",
       "        <th>team_name</th>\n",
       "        <th>location</th>\n",
       "        <th>coach_id</th>\n",
       "    </tr>\n",
       "    <tr>\n",
       "        <td>1</td>\n",
       "        <td>Barsa</td>\n",
       "        <td>Barselona</td>\n",
       "        <td>1</td>\n",
       "    </tr>\n",
       "    <tr>\n",
       "        <td>2</td>\n",
       "        <td>Real</td>\n",
       "        <td>Madrid</td>\n",
       "        <td>2</td>\n",
       "    </tr>\n",
       "    <tr>\n",
       "        <td>3</td>\n",
       "        <td>Chelsea</td>\n",
       "        <td>London</td>\n",
       "        <td>3</td>\n",
       "    </tr>\n",
       "</table>"
      ],
      "text/plain": [
       "[(1, 'Barsa', 'Barselona', 1),\n",
       " (2, 'Real', 'Madrid', 2),\n",
       " (3, 'Chelsea', 'London', 3)]"
      ]
     },
     "execution_count": 12,
     "metadata": {},
     "output_type": "execute_result"
    }
   ],
   "source": [
    "%%sql\n",
    "select * from Teams"
   ]
  },
  {
   "cell_type": "markdown",
   "metadata": {},
   "source": [
    "# Задание 5\n",
    "\n",
    "Написать функцию, осуществляющую обновление информации о команде. У функции на входе должен быть один обязательный параметр - название команды и два необязательных параметра - имя тренера и местоположение. При этом хотя бы один из необязательных параметров должен быть заполнен. Функция должна обновлять значение переданных необязательных параметров.\n",
    "\n",
    "После написания функции вызовите данную функцию несколько раз"
   ]
  },
  {
   "cell_type": "code",
   "execution_count": 13,
   "metadata": {},
   "outputs": [],
   "source": [
    "def update_team(name_team,name_coach=None, location=None):\n",
    "    if name_coach==None and location==None:\n",
    "        print('Не введен не один из необязательных параметров')\n",
    "        return -1\n",
    "    cur = db.cursor()\n",
    "    if location is None:\n",
    "        cur.execute('''update teams set coach_id = (select ID from coaches where coach_name = ?) where team_name = ?''',\n",
    "                    (name_coach,name_team))\n",
    "        db.commit()\n",
    "    elif name_coach is None:\n",
    "        cur.execute('''update teams set location = ? where team_name = ?''',(location,name_team))       \n",
    "        db.commit()\n",
    "    else:\n",
    "        cur.execute('''update teams set location = ?, coach_id = (select ID from coaches where coach_name = ?) \n",
    "                  where team_name = ?''',(location,name_coach,name_team))   \n",
    "        db.commit()"
   ]
  },
  {
   "cell_type": "code",
   "execution_count": 14,
   "metadata": {},
   "outputs": [],
   "source": [
    "update_team('Real',location='Sevilya')\n",
    "update_team('Real',name_coach='Tomphson')"
   ]
  },
  {
   "cell_type": "code",
   "execution_count": 15,
   "metadata": {},
   "outputs": [
    {
     "name": "stdout",
     "output_type": "stream",
     "text": [
      " * sqlite:///chinook.db\n",
      "Done.\n"
     ]
    },
    {
     "data": {
      "text/html": [
       "<table>\n",
       "    <tr>\n",
       "        <th>ID</th>\n",
       "        <th>team_name</th>\n",
       "        <th>location</th>\n",
       "        <th>coach_id</th>\n",
       "    </tr>\n",
       "    <tr>\n",
       "        <td>1</td>\n",
       "        <td>Barsa</td>\n",
       "        <td>Barselona</td>\n",
       "        <td>1</td>\n",
       "    </tr>\n",
       "    <tr>\n",
       "        <td>2</td>\n",
       "        <td>Real</td>\n",
       "        <td>Sevilya</td>\n",
       "        <td>4</td>\n",
       "    </tr>\n",
       "    <tr>\n",
       "        <td>3</td>\n",
       "        <td>Chelsea</td>\n",
       "        <td>London</td>\n",
       "        <td>3</td>\n",
       "    </tr>\n",
       "</table>"
      ],
      "text/plain": [
       "[(1, 'Barsa', 'Barselona', 1),\n",
       " (2, 'Real', 'Sevilya', 4),\n",
       " (3, 'Chelsea', 'London', 3)]"
      ]
     },
     "execution_count": 15,
     "metadata": {},
     "output_type": "execute_result"
    }
   ],
   "source": [
    "%%sql\n",
    "select * from teams"
   ]
  },
  {
   "cell_type": "markdown",
   "metadata": {},
   "source": [
    "# Задание 6\n",
    "\n",
    "Написать функцию, осуществляющую добавление нового футболиста в таблицу игроков. На входе (имя, возраст, название позиции, название команды, дата перехода в команду(необязательный параметр)). Если дата перехода не указана, то нужно использовать текущую дату. Предусмотреть различные ошибки (такие как неверное имя позиции, неверное название команды, возраст < 10 и > 50 и т.п.)\n",
    "\n",
    "После написания функции необходимо добавить несколько игроков."
   ]
  },
  {
   "cell_type": "code",
   "execution_count": 16,
   "metadata": {},
   "outputs": [],
   "source": [
    "import datetime\n",
    "def insert_player(name_player, age_player, position_player,team,start_date_player=None):\n",
    "    \n",
    "    result=check_data(start_date_player)\n",
    "    if result == 0:\n",
    "        print('Неподходящий формат даты!')\n",
    "        return -1\n",
    "        \n",
    "    position_id = check_position(position_player)\n",
    "    if position_id==-1:\n",
    "        return -1 \n",
    "    \n",
    "    team_id = check_team(team)\n",
    "    if team_id==-1:\n",
    "        return -1 \n",
    "    \n",
    "    if age_player<10 or age_player>50:\n",
    "        print('Неподходящий возраст')\n",
    "        return -1\n",
    "    \n",
    "    if start_date_player==None:\n",
    "        start_date_player=date.today()\n",
    "    \n",
    "    cur = db.cursor()        \n",
    "    cur.execute('''select coalesce(max(ID)+1,1) from Players''')\n",
    "    ID = cur.fetchone()[0]\n",
    "    cur.execute('''insert into Players(ID, player_name, age, start_date,position_id,team_id) VALUES(?,?,?,?,?,?)''',\n",
    "                (ID,name_player,age_player,start_date_player,position_id,team_id))\n",
    "    db.commit()"
   ]
  },
  {
   "cell_type": "code",
   "execution_count": 17,
   "metadata": {},
   "outputs": [],
   "source": [
    "def check_position(position_player):\n",
    "    cur = db.cursor()\n",
    "    cur.execute('''select ID from Positions where position_name = ?''', (position_player,))\n",
    "    try:\n",
    "        position_id = cur.fetchone()[0]\n",
    "        return position_id\n",
    "    except TypeError:\n",
    "        print('Такой позиции не существует')\n",
    "        return -1"
   ]
  },
  {
   "cell_type": "code",
   "execution_count": 18,
   "metadata": {},
   "outputs": [],
   "source": [
    "def check_team(team):\n",
    "    cur = db.cursor()\n",
    "    cur.execute('''select ID from teams where team_name = ?''', (team,))\n",
    "    try:\n",
    "        team_id = cur.fetchone()[0]\n",
    "        return team_id\n",
    "    except TypeError:\n",
    "        print('Такой команды не существует')\n",
    "        return -1"
   ]
  },
  {
   "cell_type": "code",
   "execution_count": 19,
   "metadata": {},
   "outputs": [],
   "source": [
    "def check_data(date):\n",
    "    try:\n",
    "        datetime.datetime.strptime(date,\"%Y-%m-%d\")\n",
    "        return 1\n",
    "    except ValueError:\n",
    "        print('date fail')\n",
    "        return 0"
   ]
  },
  {
   "cell_type": "code",
   "execution_count": 20,
   "metadata": {},
   "outputs": [
    {
     "name": "stdout",
     "output_type": "stream",
     "text": [
      "date fail\n",
      "Неподходящий формат даты!\n"
     ]
    },
    {
     "data": {
      "text/plain": [
       "-1"
      ]
     },
     "execution_count": 20,
     "metadata": {},
     "output_type": "execute_result"
    }
   ],
   "source": [
    "insert_player('Messi', 31, 'forward','Barsa','2003-02-02')\n",
    "insert_player('Drogba', 41, 'forward','Chelsea','2012-05-15')\n",
    "insert_player('Benzema', 31, 'forward','Real','2010-11-23')\n",
    "insert_player('Oshibka', 28, 'forward','Real','NeverniFotmatDati')"
   ]
  },
  {
   "cell_type": "code",
   "execution_count": 21,
   "metadata": {},
   "outputs": [
    {
     "name": "stdout",
     "output_type": "stream",
     "text": [
      " * sqlite:///chinook.db\n",
      "Done.\n"
     ]
    },
    {
     "data": {
      "text/html": [
       "<table>\n",
       "    <tr>\n",
       "        <th>ID</th>\n",
       "        <th>player_name</th>\n",
       "        <th>age</th>\n",
       "        <th>start_date</th>\n",
       "        <th>position_id</th>\n",
       "        <th>team_id</th>\n",
       "    </tr>\n",
       "    <tr>\n",
       "        <td>1</td>\n",
       "        <td>Messi</td>\n",
       "        <td>31</td>\n",
       "        <td>2003-02-02</td>\n",
       "        <td>4</td>\n",
       "        <td>1</td>\n",
       "    </tr>\n",
       "    <tr>\n",
       "        <td>2</td>\n",
       "        <td>Drogba</td>\n",
       "        <td>41</td>\n",
       "        <td>2012-05-15</td>\n",
       "        <td>4</td>\n",
       "        <td>3</td>\n",
       "    </tr>\n",
       "    <tr>\n",
       "        <td>3</td>\n",
       "        <td>Benzema</td>\n",
       "        <td>31</td>\n",
       "        <td>2010-11-23</td>\n",
       "        <td>4</td>\n",
       "        <td>2</td>\n",
       "    </tr>\n",
       "</table>"
      ],
      "text/plain": [
       "[(1, 'Messi', 31, '2003-02-02', 4, 1),\n",
       " (2, 'Drogba', 41, '2012-05-15', 4, 3),\n",
       " (3, 'Benzema', 31, '2010-11-23', 4, 2)]"
      ]
     },
     "execution_count": 21,
     "metadata": {},
     "output_type": "execute_result"
    }
   ],
   "source": [
    "%%sql\n",
    "select * from Players"
   ]
  },
  {
   "cell_type": "markdown",
   "metadata": {},
   "source": [
    "# Задание 7\n",
    "Написать функцию для перевода игрока в другую команду. Данная функция должна осуществить архивирование текущей записи в таблице игроков в таблицу players_archive с заполнение end_date - датой начала игры за новую команду - 1 день. А также осуществлять изменение поля в таблице Players. При возникновении ошибки должен осуществляться полный откат транзакции."
   ]
  },
  {
   "cell_type": "code",
   "execution_count": 22,
   "metadata": {},
   "outputs": [],
   "source": [
    "import datetime\n",
    "def transaction_team_player(player,old_team,new_team,start_date_new_team):\n",
    "    \n",
    "    old_team_id = check_team(old_team)\n",
    "    if old_team_id==-1:\n",
    "        return -1 \n",
    "    \n",
    "    new_team_id = check_team(new_team)\n",
    "    if new_team_id==-1:\n",
    "        return -1 \n",
    "\n",
    "    player_id = check_player(player,old_team_id)\n",
    "    if player_id==-1:\n",
    "        return -1 \n",
    "    \n",
    "    cur = db.cursor()\n",
    "    cur.execute('''select start_date from Players where ID = ?''', (player_id,))\n",
    "    start_date_old_team=cur.fetchone()[0]\n",
    "    \n",
    "   \n",
    "   #cur.execute('''select DATE(?, '-1 day')''', (start_date_new_team,))\n",
    "   #end_date_old_team=cur.fetchone()[0]\n",
    "    end_date_old_team=datetime.datetime.strptime(start_date_new_team,\"%Y-%m-%d\")\n",
    "    end_date_old_team=(end_date_old_team - datetime.timedelta(days=1)).strftime(\"%Y-%m-%d\")\n",
    "    \n",
    "    try:\n",
    "        cur.execute('''insert into PlayersArchive(player_id, team_id, start_date, end_date) VALUES(?,?,?,?)''',\n",
    "                (player_id,old_team_id,start_date_old_team,end_date_old_team))\n",
    "        cur.execute('''Update Players set start_date = ?,team_id = ? where ID = ?''',\n",
    "                (start_date_new_team,new_team_id,player_id))\n",
    "        db.commit()\n",
    "    except db.Error:\n",
    "        print('failed!')\n",
    "        db.rollback()"
   ]
  },
  {
   "cell_type": "code",
   "execution_count": null,
   "metadata": {},
   "outputs": [],
   "source": []
  },
  {
   "cell_type": "code",
   "execution_count": 23,
   "metadata": {},
   "outputs": [],
   "source": [
    "def check_player(player,team_id):\n",
    "    cur = db.cursor()\n",
    "    cur.execute('''select ID from Players where player_name = ? and team_id = ?''', (player,team_id))\n",
    "    try:\n",
    "        player_id = cur.fetchone()[0]\n",
    "        return player_id\n",
    "    except TypeError:\n",
    "        print('Такого игрока не существует')\n",
    "        return -1"
   ]
  },
  {
   "cell_type": "code",
   "execution_count": 24,
   "metadata": {},
   "outputs": [],
   "source": [
    "def check_team(old_team):\n",
    "    cur = db.cursor()\n",
    "    cur.execute('''select ID from Teams where team_name = ?''', (old_team,))\n",
    "    try:\n",
    "        team_id = cur.fetchone()[0]\n",
    "        return team_id\n",
    "    except TypeError:\n",
    "        print('Такой команды не существует')\n",
    "        return -1"
   ]
  },
  {
   "cell_type": "code",
   "execution_count": 25,
   "metadata": {},
   "outputs": [],
   "source": [
    "transaction_team_player('Messi','Barsa','Real','2019-02-19')\n",
    "transaction_team_player('Messi','Real','Chelsea','2019-03-07')\n",
    "transaction_team_player('Messi','Chelsea','Barsa','2019-04-07')\n",
    "transaction_team_player('Messi','Barsa','Real','2019-05-19')\n",
    "transaction_team_player('Messi','Real','Chelsea','2019-06-07')\n",
    "transaction_team_player('Messi','Chelsea','Barsa','2019-07-07')"
   ]
  },
  {
   "cell_type": "code",
   "execution_count": 26,
   "metadata": {},
   "outputs": [
    {
     "name": "stdout",
     "output_type": "stream",
     "text": [
      " * sqlite:///chinook.db\n",
      "Done.\n"
     ]
    },
    {
     "data": {
      "text/html": [
       "<table>\n",
       "    <tr>\n",
       "        <th>player_id</th>\n",
       "        <th>team_id</th>\n",
       "        <th>start_date</th>\n",
       "        <th>end_date</th>\n",
       "    </tr>\n",
       "    <tr>\n",
       "        <td>1</td>\n",
       "        <td>1</td>\n",
       "        <td>2003-02-02</td>\n",
       "        <td>2019-02-18</td>\n",
       "    </tr>\n",
       "    <tr>\n",
       "        <td>1</td>\n",
       "        <td>2</td>\n",
       "        <td>2019-02-19</td>\n",
       "        <td>2019-03-06</td>\n",
       "    </tr>\n",
       "    <tr>\n",
       "        <td>1</td>\n",
       "        <td>3</td>\n",
       "        <td>2019-03-07</td>\n",
       "        <td>2019-04-06</td>\n",
       "    </tr>\n",
       "    <tr>\n",
       "        <td>1</td>\n",
       "        <td>1</td>\n",
       "        <td>2019-04-07</td>\n",
       "        <td>2019-05-18</td>\n",
       "    </tr>\n",
       "    <tr>\n",
       "        <td>1</td>\n",
       "        <td>2</td>\n",
       "        <td>2019-05-19</td>\n",
       "        <td>2019-06-06</td>\n",
       "    </tr>\n",
       "    <tr>\n",
       "        <td>1</td>\n",
       "        <td>3</td>\n",
       "        <td>2019-06-07</td>\n",
       "        <td>2019-07-06</td>\n",
       "    </tr>\n",
       "</table>"
      ],
      "text/plain": [
       "[(1, 1, '2003-02-02', '2019-02-18'),\n",
       " (1, 2, '2019-02-19', '2019-03-06'),\n",
       " (1, 3, '2019-03-07', '2019-04-06'),\n",
       " (1, 1, '2019-04-07', '2019-05-18'),\n",
       " (1, 2, '2019-05-19', '2019-06-06'),\n",
       " (1, 3, '2019-06-07', '2019-07-06')]"
      ]
     },
     "execution_count": 26,
     "metadata": {},
     "output_type": "execute_result"
    }
   ],
   "source": [
    "%%sql\n",
    "select * from PlayersArchive"
   ]
  },
  {
   "cell_type": "code",
   "execution_count": 27,
   "metadata": {},
   "outputs": [
    {
     "name": "stdout",
     "output_type": "stream",
     "text": [
      " * sqlite:///chinook.db\n",
      "Done.\n"
     ]
    },
    {
     "data": {
      "text/html": [
       "<table>\n",
       "    <tr>\n",
       "        <th>ID</th>\n",
       "        <th>player_name</th>\n",
       "        <th>age</th>\n",
       "        <th>start_date</th>\n",
       "        <th>position_id</th>\n",
       "        <th>team_id</th>\n",
       "    </tr>\n",
       "    <tr>\n",
       "        <td>1</td>\n",
       "        <td>Messi</td>\n",
       "        <td>31</td>\n",
       "        <td>2019-07-07</td>\n",
       "        <td>4</td>\n",
       "        <td>1</td>\n",
       "    </tr>\n",
       "    <tr>\n",
       "        <td>2</td>\n",
       "        <td>Drogba</td>\n",
       "        <td>41</td>\n",
       "        <td>2012-05-15</td>\n",
       "        <td>4</td>\n",
       "        <td>3</td>\n",
       "    </tr>\n",
       "    <tr>\n",
       "        <td>3</td>\n",
       "        <td>Benzema</td>\n",
       "        <td>31</td>\n",
       "        <td>2010-11-23</td>\n",
       "        <td>4</td>\n",
       "        <td>2</td>\n",
       "    </tr>\n",
       "</table>"
      ],
      "text/plain": [
       "[(1, 'Messi', 31, '2019-07-07', 4, 1),\n",
       " (2, 'Drogba', 41, '2012-05-15', 4, 3),\n",
       " (3, 'Benzema', 31, '2010-11-23', 4, 2)]"
      ]
     },
     "execution_count": 27,
     "metadata": {},
     "output_type": "execute_result"
    }
   ],
   "source": [
    "%%sql\n",
    "select * from Players"
   ]
  }
 ],
 "metadata": {
  "kernelspec": {
   "display_name": "Python 3",
   "language": "python",
   "name": "python3"
  },
  "language_info": {
   "codemirror_mode": {
    "name": "ipython",
    "version": 3
   },
   "file_extension": ".py",
   "mimetype": "text/x-python",
   "name": "python",
   "nbconvert_exporter": "python",
   "pygments_lexer": "ipython3",
   "version": "3.6.5"
  }
 },
 "nbformat": 4,
 "nbformat_minor": 2
}
